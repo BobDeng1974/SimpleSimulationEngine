{
 "cells": [
  {
   "cell_type": "markdown",
   "metadata": {},
   "source": [
    "# Modular Idustrial Space Outpost\n",
    "\n",
    "### Abstract\n",
    "\n",
    "We presnet analysis of main objectives and technical challanges which industrial space facilities will have to solve in order to faccilite perspective industrial processes. We suggest possible solutions which seems to be most feasible and efficient from point of view of contemporery technolgy and ecconomy. To do so we design system of modules from which industrial space outpost can be assebmled. The main motivation is to maximaly utilize and promote favourable features of space invironment for industrial processes which are particualarily advantagenous and therefore profitable to conduct in space environemnt. We try to relate our concept of industrial hub to much more common studies of habitats for people living in space. While industial and humane space architecture shares may common aspects such as atempt to provide enclose protected evironment, we think that industrial motivations are much more relevant for space develoment, as it is currently uncertain wheather human presence in space will be required and economically justified."
   ]
  },
  {
   "cell_type": "markdown",
   "metadata": {},
   "source": [
    "\n",
    "# Introduction\n",
    "\n",
    "Collonization of space is often considered as great technical and economic challenge with rather ideological justification (i.e. expansion of humanity to space). For hunderts of years the topic provides ground for adventurous sci-fy storries, social utopias as well as architectectural and other artistic visions of building modern version of  Atlantis or Elysium. The basic plot of these visions is to achieve magnificient and noble goals at the cost of huge effort and capital investemnt.\n",
    "\n",
    "However for self-sustained space colonization driven predominantly by privite sector the reasoning must be reversed. We have to consider only such bussineses which are profitable on purely economical basis with return on investment in reasonable time period. In other words we search for such procesess or egineering projects which are actually in a sense *easier* to conduct in space than on the Earth. Commonly asteroid mining is reffered as such industry, due to abundant presence of e.g. platinum group metals (PGMs) and certain precious semiconductor elements in relatively high concetration. However, due to large development and capital cost as well as considerable risk involved economic feasibility of space economy driven prurely by mining or rare resources sold on Earth is dubious. Asteroid mining can be perhaps economically justified only when majority of the mined resources is consumed directly in space, where cost o raw material is considerably higer due to high transport cost of the material from Earth. Some of the in-space demand on raw materials can be justified by service of current facilities on Eath orbit such as comunication and sciencetific satailites and ISS, or perhaps of future sciencetific or recreational facilities and sciencetific missions. Nevertheless, such demant is relatively limited and from large part dirctly or indirectly dependent on govermental support. Really self-sufficient, exponetitally growing space ecconomy must be therefore based on industrial processes conducted in space. \n",
    "\n",
    "##  space economy drivers\n",
    "\n",
    "While PGMs and other minaral resources alone probably cannot motivate rage scale industrialization of space, there is huge demand some features of space environment which are scarce on Earth. This involve either physical aspect such as vacuum, cryogentic temperatures, microgravity, un-occluded solar light, large un-interupted building space as well as socio-political aspect such as lack of enviromental protection and govermental control. All these features of Earth environmnet consideraly interfere and complicate many hi-tech industrial processes. Perhaps better to say, most favourable features of space environment are due what it lack rather than what it provides. Lets us now discuss these features of space environemnt in detail together with particular industrial processes which can make advatages of it. \n",
    "\n",
    "### Physical aspects\n",
    "\n",
    " - **zero gravity**\n",
    "   - [Some technologies](https://en.wikipedia.org/wiki/Space_manufacturing) such as crystal groth of [proteins](http://www.nature.com/articles/npjmgrav201510) and anorganic crystals, are hapered by gravity as perturbing force. \n",
    "   - Building of large fragile structures - such as space-crafts, space-telescopes, particle acclerator and other large-scale physical experiments may be much easier in micro-gravity environment.\n",
    " - **vacuum** - many physical technologies and experiments require vacuum environment, and building vacuum vessels on earch considerably increase cost of such projects.   \n",
    "   - Electron beam and ion beam technologies - large scale machining using electron beams is older than laser machining, and it is also enegetically more efficient (due to higher efficiency of electron acclerator in comprision to laser sources) and easily controlable (magnetic deflection f beam). \n",
    "   - Molecular beam epitaxy\n",
    " - **low temeprature** - since temperature of outer space is 2.73K, almost anywhere in solar system can be achived criogenic temperatures if sun radiation is shielded. The shilding may be problematic since both atificial and natural shields (e.g. planets) radiates it own termal radiation. Nevertheless using several laryes of artificial shields teperetures around 5-10K can be regularily achieved using only passive cooling. This is considerable advantage also for very-low temperature tech (e.g. milikelvin) since active cooling and isolation is also much easier in this environment (vacuum). Technologies utilizing low temperatures include:\n",
    "   - Super-conductive technologies (magnets, generators)\n",
    "   - Quantum computing and explotation of other quantum phenomenas\n",
    "   - Low temperatures pshysical experiments\n",
    " - **abundance of some elements** which are depleted in planetary crust - Including platinum group metals, rare semiconductors (Germanium, Galium, Gadolinium, Indium, Telur ... ) and rare earth metals and Helimum-3\n",
    "\n",
    "### Socio-political aspects\n",
    "\n",
    "- **Polution tolerance** - For numerous indrustrial processes on earth the cost connected to safety and environemntally friendly liqudation of waste is considerable. For some processes these aspect are the main barries for large scale adoption. From current perspective space environment is enough large, and life-unfriendly to facilitate virtually any ammout of waste and polution we can imagine to produce, without any evironemnt deteoriation. While it may seem irresponsible in current political context, where environmental protection and sustanable developemnt are proclaimed to be in centre of moral values, it is actually very reasonable also from that context. Part of most problematic industrial processes from earth can be outsourced to space where tehy are much less problematic. If can eventually modify the approach later, when scale of space economy achive relevant (i.e. astronomic) proportions in which space polution may start to present a problem. There is no reason to arbitrarily hamper space development by pre-mature enviromental concerns. \n",
    "- **Lack of Law and its enforcement** - For long time space-economy will be still dependent on earth-bound customers, and earth-bound investors and therefore indirectly also subbject to regulation of earth bound goverment and law. Nevertheless, from historical perspective as well as from practical considerations it is quite probable that degree of control will be much more limited than in already established socio-political enviroment of developed states on earth. The historical experience of naval exploration and subsequent colonialism shows control of central goverment over colonists (e.g. in North America) and companies (e.g. East india company) was limited. Whether this lax application of govermental control was deliberate in order to promote efficenecy of private edeavours and limit govermental responsibility (as in case of oriental trade companies) or if it was due to practical imposibility to gain complete control over the vast area (e.g. piracy) it is reasonable to expect that the same factor limit govermental control in space. Even from more recent history of globalization we se precedences where international companies outsource various economic activies which would be problatic or illegal in developed countries into developing states with much more relaxed law and law enforcement. This same situation may very well appear in space economy, only now these practices will not affect local population or nature. It is tipical that law and even more culture and morality lag behind technological development. This on one hand support the assumption that application will be limited by the mare lack of reasonable law to apply. On the other hand this hapers technological development in developed nations by posing irrational barriers. For example bio-egineering especially in humane context is considerably limited by ethical concerns and cultural traditions and religious prejudices. In space such limiting norms can be hardly enforced.\n",
    "\n",
    "### industrail processes profiting from space environemnt\n",
    "\n",
    "We briefly discuss several particular technological processes in order to identify demands imposed of space architecture which should facilitate them, and to support assumption what it is ecconomically advantagenous to conduct these processes in space. Technological details of those processes as well perticular realization of correspoding technolgical production facility in space is beyond the scope of this paper. We rather assume that industrail architecture (MISO) discussed in this paper will provide protected and controled space for 3rd party companies, and that choice and realiation of paticular facility or technology is on them. This allows us to discuss more general features of industrial space architecture which are incommon fto broader variety of technologies.\n",
    "\n",
    "- Molecular beam epitaxy\n",
    "- Crystal-groth\n",
    "- Quantum computing\n",
    "- Plasma physics\n",
    "- Ion beam technology\n",
    "\n",
    "##  Objectives of space idustrial engineering\n",
    "\n",
    "- **Paticle radiation shields**\n",
    "- **Micro-meteorite shield**\n",
    "- **Heat shields and cryogenics**\n",
    "- **Hih-quality Vacuum vessels**\n",
    "- **Centrifuges and artificial gravity**\n",
    "- **Posture control**\n",
    "- **Transport within colony** - due to large scale industrial facilities (such as heat shileds or mass drivers) iterdepenent industrial processes will be separated by considerable distances. We have to ensure efficient transport of comodities, components and products as well as of workforce (robots) between those nodes.   \n",
    "- **Transport outside colony** - While in initial phase of space-industrialization spacecrat should be able to arrive and leave outpost without any assistance, in later phases it will be probably advantageneous to supplent the station by facilities such as mass-drivers and sky-hooks for acceleration and de-acceleration of transport vessels. These faccilities will considerably reduce ammount of consumed propelant by substituing its inertial mass by the mass of the whole facility. \n",
    "\n",
    "### Protection of facilities from enviromental factors - Factories vs habitats\n",
    "\n"
   ]
  }
 ],
 "metadata": {
  "anaconda-cloud": {},
  "kernelspec": {
   "display_name": "Python 2",
   "language": "python",
   "name": "python2"
  },
  "language_info": {
   "codemirror_mode": {
    "name": "ipython",
    "version": 2
   },
   "file_extension": ".py",
   "mimetype": "text/x-python",
   "name": "python",
   "nbconvert_exporter": "python",
   "pygments_lexer": "ipython2",
   "version": "2.7.12"
  }
 },
 "nbformat": 4,
 "nbformat_minor": 1
}
