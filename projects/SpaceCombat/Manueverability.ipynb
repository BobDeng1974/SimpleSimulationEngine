{
 "cells": [
  {
   "cell_type": "markdown",
   "metadata": {},
   "source": [
    "### Mission capabilities\n",
    "\n",
    "Maximum acceleration and delta-v limit missions which can be conducted by space ship. Typical mission is composed of two parts\n",
    "  1. **accelerated motion** with active trust - during this phase traveled distance grows quadratically with time as $s = 0.5 at^2$ (where $a=F/m$ is acceleration determined by engine thrust $F$ and mass of the ship $m$ )\n",
    "  2. passive **intertial coasting** - during this phase traveled distance linearlily with time as $s = v t$ where $v$ is the velocity achieved at the end of thruster burn.\n",
    "  \n",
    "This simple analysis is exact only in empty space without gravity (or other forces) from planets and stars. It also holds quite well when delta-v of space ships is much higher than escape velocity of any planets or stars. This analysis is derived just for fly-by missions where space ship does not slow-down at target (resp. does not match its velocity). However, generalization for full transfer including velocity matching is strainghtforward, since slow down is exactly symmetric to acceleration - therefore time required for acceleration is just doubled.\n"
   ]
  },
  {
   "cell_type": "code",
   "execution_count": null,
   "metadata": {
    "collapsed": false,
    "scrolled": false
   },
   "outputs": [],
   "source": [
    "from py import timeToDistance\n",
    "timeToDistance.main()"
   ]
  },
  {
   "cell_type": "markdown",
   "metadata": {},
   "source": [
    "As you can see from the previous log-log plot the distance traveled by the ship exhibit a kink between accelerated phase and inertial costing case. You can also notice minor curvature just before the kink which is due to decreasing mass of the ship as fuel is spend - but this effect is rather small unless the ship has very large propelent mass ratio. \n",
    "\n",
    "#### Further simplification\n",
    "The analysis can be therefore further symplified. Exploiting the fact that the curve is composed of two (almost) linear parts we use slope the the curves (which is 1.acceleration $a$ and 2.delta-v $\\Delta v$) as new axes. This means afine transformation of log-log axes. At the end we obtain new log-log plot where we can for any combination of ($a$,$\\Delta v$) read time required to reach particuler distance, and corresponding power density required. "
   ]
  },
  {
   "cell_type": "code",
   "execution_count": null,
   "metadata": {
    "collapsed": false
   },
   "outputs": [],
   "source": [
    "from py import maxDeltaV_approx\n",
    "maxDeltaV_approx.main()"
   ]
  }
 ],
 "metadata": {
  "anaconda-cloud": {},
  "kernelspec": {
   "display_name": "Python 2",
   "language": "python",
   "name": "python2"
  },
  "language_info": {
   "codemirror_mode": {
    "name": "ipython",
    "version": 2
   },
   "file_extension": ".py",
   "mimetype": "text/x-python",
   "name": "python",
   "nbconvert_exporter": "python",
   "pygments_lexer": "ipython2",
   "version": "2.7.12"
  }
 },
 "nbformat": 4,
 "nbformat_minor": 1
}
